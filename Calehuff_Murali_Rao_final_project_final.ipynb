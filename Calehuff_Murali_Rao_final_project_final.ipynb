{
 "cells": [
  {
   "cell_type": "markdown",
   "metadata": {},
   "source": [
    "### Predicting Board Game Scores\n",
    "\n",
    "### Samurai Champloo\n",
    "\n",
    "### Student Names\n",
    "\n",
    "#### 1. Max Calehuff \n",
    "\n",
    "#### 2. Srikar Murali\n",
    "\n",
    "#### 3. Xiao Rao\n"
   ]
  },
  {
   "cell_type": "markdown",
   "metadata": {},
   "source": [
    "### 1) Ask:\n",
    "\n",
    "#### Can we predict the score of the board game using the features of the game?"
   ]
  },
  {
   "cell_type": "markdown",
   "metadata": {},
   "source": [
    "### 2) Acquire\n",
    "\n",
    "#### The data comes from https://github.com/rfordatascience/tidytuesday/tree/master/data/2019/2019-03-12\n",
    "\n",
    "#### The description is in the page below.\n",
    "\n",
    "#### We will use following features\n",
    "\n",
    "· max_players\n",
    "\n",
    "· max_playtime\n",
    "\n",
    "· min_age\n",
    "\n",
    "· min_players\n",
    "\n",
    "· min_playtime\n",
    "\n",
    "· playing_time\n",
    "\n",
    "· compilation\n",
    "\n",
    "· expansion\n",
    "\n",
    "· users_rated\n",
    "\n",
    "· category\n",
    "\n",
    "· mechanic\n",
    "\n",
    "· cat_na\n",
    "\n",
    "· mech_na\n",
    "\n",
    "#### Some features are transformed in the data cleaning and processing sections."
   ]
  },
  {
   "cell_type": "markdown",
   "metadata": {},
   "source": [
    "### 3) Process"
   ]
  },
  {
   "cell_type": "code",
   "execution_count": 1,
   "metadata": {},
   "outputs": [],
   "source": [
    "import numpy as np\n",
    "import pandas as pd\n",
    "import matplotlib.pyplot as plt\n",
    "import seaborn as sns\n",
    "from sklearn.impute import SimpleImputer\n",
    "from sklearn.compose import ColumnTransformer\n",
    "from sklearn.preprocessing import Normalizer\n",
    "from sklearn.preprocessing import StandardScaler\n",
    "from sklearn.preprocessing import FunctionTransformer\n",
    "from sklearn.linear_model import LinearRegression\n",
    "from sklearn.linear_model import Ridge\n",
    "from sklearn.linear_model import Lasso\n",
    "from sklearn.ensemble import RandomForestRegressor\n",
    "from sklearn.model_selection import train_test_split\n",
    "from sklearn.metrics import r2_score\n",
    "from sklearn.metrics import median_absolute_error\n",
    "from sklearn.model_selection import GridSearchCV, cross_val_score, KFold, cross_validate\n",
    "from sklearn.metrics import fbeta_score, make_scorer\n",
    "from sklearn.pipeline import Pipeline\n",
    "from sklearn.decomposition import PCA\n",
    "import warnings\n",
    "warnings.filterwarnings('ignore')"
   ]
  },
  {
   "cell_type": "markdown",
   "metadata": {},
   "source": [
    "#### Load Data"
   ]
  },
  {
   "cell_type": "code",
   "execution_count": 2,
   "metadata": {},
   "outputs": [],
   "source": [
    "data = pd.read_csv(\n",
    "    \"https://raw.githubusercontent.com/rfordatascience/tidytuesday/master/data/2019/2019-03-12/board_games.csv\")"
   ]
  },
  {
   "cell_type": "code",
   "execution_count": 3,
   "metadata": {},
   "outputs": [],
   "source": [
    "X = data.copy()"
   ]
  },
  {
   "cell_type": "markdown",
   "metadata": {},
   "source": [
    "#### Cleaning the Numeric Data\n"
   ]
  },
  {
   "cell_type": "code",
   "execution_count": 4,
   "metadata": {},
   "outputs": [],
   "source": [
    "\n",
    "X = X[X.game_id != 30] # remove erroneous rows\n",
    "X[(X.max_players >= 30) | (X.max_players == 0)] = X['max_players'].mode()[0]\n",
    "X[X.max_playtime == 0] = X['max_playtime'].mode()[0]\n",
    "X[X.min_age > 21] = X['min_age'].mode()[0]\n",
    "X[X.min_players == 0] = X['min_players'].mode()[0]\n",
    "X[X.min_playtime == 0] = X['min_playtime'].mode()[0]\n",
    "X[X.playing_time == 0] = X['playing_time'].mode()[0]"
   ]
  },
  {
   "cell_type": "code",
   "execution_count": 5,
   "metadata": {},
   "outputs": [],
   "source": [
    "y = X[\"average_rating\"]\n",
    "X = X.drop([\"average_rating\"], axis=1)"
   ]
  },
  {
   "cell_type": "code",
   "execution_count": 6,
   "metadata": {
    "scrolled": true
   },
   "outputs": [],
   "source": [
    "X_train, X_test, y_train, y_test = train_test_split(X, y)"
   ]
  },
  {
   "cell_type": "markdown",
   "metadata": {},
   "source": [
    "### Feature Engineering"
   ]
  },
  {
   "cell_type": "markdown",
   "metadata": {},
   "source": [
    "#### Fix Columns"
   ]
  },
  {
   "cell_type": "code",
   "execution_count": 7,
   "metadata": {},
   "outputs": [],
   "source": [
    "def drop_cols(df):\n",
    "    \"\"\"Drop columns which aren't being used.\"\"\"\n",
    "    df = df.drop(['game_id', 'description', 'image', 'name',\n",
    "                  'thumbnail', 'artist', 'designer', 'family',\n",
    "                  'publisher', 'year_published'], axis=1)\n",
    "    return df"
   ]
  },
  {
   "cell_type": "code",
   "execution_count": 8,
   "metadata": {},
   "outputs": [],
   "source": [
    "def binary_cols(df, col):\n",
    "    \"Convert columns to binary values.\"\n",
    "    df[col].loc[~df[col].isnull()] = 1  # not nan\n",
    "    df[col].loc[df[col].isnull()] = 0   # nan\n",
    "    return df"
   ]
  },
  {
   "cell_type": "code",
   "execution_count": 9,
   "metadata": {},
   "outputs": [],
   "source": [
    "X_train = drop_cols(X_train)\n",
    "X_train = binary_cols(X_train, \"compilation\")\n",
    "X_train = binary_cols(X_train, \"expansion\")\n",
    "\n",
    "X_test = drop_cols(X_test)\n",
    "X_test = binary_cols(X_test, \"compilation\")\n",
    "X_test = binary_cols(X_test, \"expansion\")"
   ]
  },
  {
   "cell_type": "markdown",
   "metadata": {},
   "source": [
    "#### Transform Categorical Variables"
   ]
  },
  {
   "cell_type": "code",
   "execution_count": 10,
   "metadata": {},
   "outputs": [],
   "source": [
    "category_map = {\"Economic\": \"Theme\", \"Card Game\": \"Card Game\", \"Abstract Strategy\": \"Strategy\",\n",
    "                \"Ancient\": \"History\", \"Civilization\": \"History\", \"Exploration\": \"Exploration\", \"Fantasy\": \"Theme\",\n",
    "                \"Negotiation\": \"Strategy\", \"Bluffing\": \"Strategy\", \"Collectible Components\": \"Collectible Components\",\n",
    "                \"Miniatures\": \"Collectible Components\", 'American West': 'History', 'Science Fiction': 'Theme',\n",
    "                'Adventure': 'Theme', 'Fighting': 'Theme', 'Deduction': 'Strategy', 'Dice': 'Dice',\n",
    "                'Aviation / Flight': 'Theme', 'Renaissance': 'History', 'City Building': 'Building',\n",
    "                'Medieval': 'History', 'Trivia': 'Trivia', 'Political': 'Theme', 'Wargame': 'Wargame',\n",
    "                'American Civil War': 'History', 'Age of Reason': 'History', 'Animals': 'Theme', 'Nautical': 'Theme',\n",
    "                'Territory Building': 'Building', 'Prehistoric': 'History', 'Electronic': 'Electronic',\n",
    "                'Action / Dexterity': 'Action / Dexterity', 'Educational': 'Educational', 'Racing': 'Theme', 'Print & Play': 'Print & Play',\n",
    "                'Trains': 'Theme', 'Party Game': 'Party Game', 'Civil War': 'History', 'American Indian Wars': 'History',\n",
    "                'Napoleonic': 'History', 'Humor': 'Theme', 'Movies / TV / Radio theme': 'Theme',\n",
    "                'American Revolutionary War': 'History', 'Mafia': 'Theme', \"Children's Game\": \"Children's Game\",\n",
    "                'Comic Book / Strip': 'Theme', 'Arabian': 'Theme', 'Novel-based': 'Theme', 'Pirates': 'Theme',\n",
    "                'Transportation': 'Theme', 'Puzzle': 'Puzzle', 'Music': 'Music', 'Horror': 'Theme', 'Post-Napoleonic': 'History',\n",
    "                'Sports': 'Theme', 'Farming': 'Theme', 'Murder/Mystery': 'Theme', 'Word Game': 'Word Game', 'Book': 'Theme',\n",
    "                'Medical': 'Theme', 'Memory': 'Memory', 'Maze': 'Maze', 'Modern Warfare': 'History', 'Environmental': 'Theme',\n",
    "                'Spies/Secret Agents': 'Theme', 'Math': 'Theme', 'Industry / Manufacturing': 'Building', 'Pike and Shot': 'Pike and Shot',\n",
    "                'Space Exploration': 'Theme', 'Game System': 'Game System', 'Korean War': 'History', 'Real-time': 'Real-time',\n",
    "                'Vietnam War': 'History', 'Video Game Theme': 'Theme', 'Mature / Adult': 'Theme', 'Travel': 'Theme',\n",
    "                'Religious': 'History', 'Mythology': 'History', 'Expansion for Base-game': 'Theme',\n",
    "                'Number': 'Theme', 'Zombies': 'Theme', 'World War II': 'History', 'World War I': 'History'\n",
    "                }\n",
    "mechanic_map = {'Area Control / Area Influence': 'Area Control', 'Trick-taking': 'Trick-taking',\n",
    "                'Action Point Allowance System': 'Action System', 'Hand Management': 'Card Management', 'Dice Rolling': 'Dice Usage',\n",
    "                'Area Enclosure': 'Area Control', 'Modular Board': 'Area Control', 'Card Drafting': 'Card Management',\n",
    "                'Auction/Bidding': 'Economic System', 'Roll / Spin and Move': 'Dice Usage',\n",
    "                'Action / Movement Programming': 'Action System', 'Tile Placement': 'Area Control', 'Area Movement': 'Area Control',\n",
    "                'Commodity Speculation': 'Economic System', 'Co-operative Play': 'Co-operative Play', 'Hex-and-Counter': 'Hex-and-Counter',\n",
    "                'Route/Network Building': 'Building System', 'Set Collection': 'Card Management', 'Grid Movement': 'Area Control',\n",
    "                'Campaign / Battle Card Driven': 'Story Driven', 'Secret Unit Deployment': 'Unit Deployment',\n",
    "                'Betting/Wagering': 'Economic System', 'Partnerships': 'Player Based', 'Rock-Paper-Scissors': 'Luck Based Decisions',\n",
    "                'Point to Point Movement': 'Area Control', 'Crayon Rail System': 'Building', 'Voting': 'Player Based',\n",
    "                'Paper-and-Pencil': 'Hand Writing', 'Line Drawing': 'Hand Writing',\n",
    "                'Simultaneous Action Selection': 'Action System', 'Pick-up and Deliver': 'Pick-up and Deliver',\n",
    "                'Press Your Luck': 'Luck Based Decisions', 'Player Elimination': 'Player Based',\n",
    "                'Memory': 'Memory', 'Area-Impulse': 'Area Control', 'Stock Holding': 'Economic System',\n",
    "                'Variable Player Powers': 'Player Based', 'Take That': 'Player Based', 'Pattern Building': 'Pattern Based', 'Trading': 'Economic System', 'Pattern Recognition': 'Pattern Based',\n",
    "                'Chit-Pull System': 'Building', 'Simulation': 'Story Driven', 'Acting': 'Acting', 'Role Playing': 'Story Driven', 'Deck / Pool Building': 'Building',\n",
    "                'Storytelling': 'Story Driven', 'Singing': 'Singing', 'Variable Phase Order': 'Unit Deployment', 'Time Track': 'Player Based', 'Worker Placement': 'Unit Deployment'\n",
    "                }"
   ]
  },
  {
   "cell_type": "code",
   "execution_count": 11,
   "metadata": {},
   "outputs": [],
   "source": [
    "def fix_categorical_cols(data):\n",
    "    \"\"\"Transform and map categorical columns.\"\"\"\n",
    "    cats = data['category'].str.split(',', expand=True)\n",
    "    mechanic = data['mechanic'].str.split(',', expand=True)\n",
    "    data = pd.concat([data, cats[0]], axis=1)\n",
    "    data = pd.concat([data, mechanic[0]], axis=1)\n",
    "    data = data.drop(['category', 'mechanic'], axis=1)\n",
    "    data.columns = ['max_players', 'max_playtime', 'min_age', 'min_players', 'min_playtime',\n",
    "                    'playing_time', 'compilation', 'expansion', 'users_rated',\n",
    "                    'category', 'mechanic']\n",
    "    # Map categorical column values to reduce the number of unique values\n",
    "    data.category = data.category.map(category_map)\n",
    "    data.mechanic = data.mechanic.map(mechanic_map)\n",
    "    return data"
   ]
  },
  {
   "cell_type": "code",
   "execution_count": 12,
   "metadata": {},
   "outputs": [],
   "source": [
    "X_train = fix_categorical_cols(X_train)\n",
    "\n",
    "# Add columns to training data that contains 0 or 1 depending on if the value in the category/mechanic column is nan\n",
    "X_train.loc[X_train.category.isna(), 'cat_na'] = 1\n",
    "X_train.loc[~X_train.category.isna(), 'cat_na'] = 0\n",
    "X_train.loc[X_train.mechanic.isna(), 'mech_na'] = 1\n",
    "X_train.loc[~X_train.mechanic.isna(), 'mech_na'] = 0\n",
    "\n",
    "\n",
    "X_test = fix_categorical_cols(X_test)\n",
    "\n",
    "# Add columns to testing data that contains 0 or 1 depending on if the value in the category/mechanic column is nan\n",
    "X_test.loc[X_test.category.isna(), 'cat_na'] = 1\n",
    "X_test.loc[~X_test.category.isna(), 'cat_na'] = 0\n",
    "X_test.loc[X_test.mechanic.isna(), 'mech_na'] = 1\n",
    "X_test.loc[~X_test.mechanic.isna(), 'mech_na'] = 0"
   ]
  },
  {
   "cell_type": "markdown",
   "metadata": {},
   "source": [
    "#### Standardize Numeric Columns"
   ]
  },
  {
   "cell_type": "code",
   "execution_count": 13,
   "metadata": {},
   "outputs": [],
   "source": [
    "def standardize_cols(data, cols):\n",
    "    \"\"\"Standardize numeric columns.\"\"\"\n",
    "    features = data[cols]\n",
    "    ct = ColumnTransformer([\n",
    "        ('scl', StandardScaler(), cols)\n",
    "    ], remainder='passthrough') # pass through columns that are not specified\n",
    "    scaled_features = ct.fit_transform(features)\n",
    "    data[cols] = scaled_features\n",
    "    return data"
   ]
  },
  {
   "cell_type": "code",
   "execution_count": 14,
   "metadata": {},
   "outputs": [],
   "source": [
    "X_train = standardize_cols(X_train, ['max_players', 'max_playtime', 'min_age',\n",
    "                                     'min_players', 'min_playtime', 'playing_time', 'users_rated'])\n",
    "\n",
    "X_test = standardize_cols(X_test, ['max_players', 'max_playtime', 'min_age',\n",
    "                                   'min_players', 'min_playtime', 'playing_time', 'users_rated'])\n",
    "\n",
    "\n"
   ]
  },
  {
   "cell_type": "markdown",
   "metadata": {},
   "source": [
    "#### Factorize Categorical Columns"
   ]
  },
  {
   "cell_type": "code",
   "execution_count": 15,
   "metadata": {},
   "outputs": [],
   "source": [
    "# Factorize categorical columns mechanic and category in training data\n",
    "X_train[\"category\"] = pd.factorize(X_train[\"category\"])[0]\n",
    "X_train[\"mechanic\"] = pd.factorize(X_train[\"mechanic\"])[0]\n",
    "\n",
    "# Factorize categorical columns mechanic and category in testing data\n",
    "X_test[\"category\"] = pd.factorize(X_test[\"category\"])[0]\n",
    "X_test[\"mechanic\"] = pd.factorize(X_test[\"mechanic\"])[0]\n",
    "\n",
    "# Drop categorical columns category and mechanic for Random Forest regressor\n",
    "# Random Forest regressor seems to perform better without categorical columns\n",
    "\n",
    "X_train_rf = X_train.drop(['category', 'mechanic'], axis=1)\n",
    "\n",
    "X_test_rf = X_test.drop(['category', 'mechanic'], axis=1)"
   ]
  },
  {
   "cell_type": "code",
   "execution_count": 16,
   "metadata": {},
   "outputs": [],
   "source": [
    "def is_rf(name, train=True):\n",
    "    \"\"\"Return the correct X data set depending on the model.\"\"\"\n",
    "    if train:\n",
    "        if name == \"RandomForestRegressor\":\n",
    "            return X_train_rf\n",
    "        return X_train\n",
    "    if name == \"RandomForestRegressor\":\n",
    "        return X_test_rf\n",
    "    return X_test"
   ]
  },
  {
   "cell_type": "markdown",
   "metadata": {},
   "source": [
    "### 4) Model Building and Evaluation"
   ]
  },
  {
   "cell_type": "markdown",
   "metadata": {},
   "source": [
    "#### Pipeline"
   ]
  },
  {
   "cell_type": "code",
   "execution_count": 17,
   "metadata": {},
   "outputs": [],
   "source": [
    "def make_pipeline(models, X_train, y_train):\n",
    "    \"\"\"Create and fit pipeline for various models.\"\"\"\n",
    "    pipes = []\n",
    "    for model in models:\n",
    "        X_tr = is_rf(name=type(model).__name__, train=True)\n",
    "        pipe = Pipeline([('scl', StandardScaler()),\n",
    "                         ('pca', PCA(n_components=2)),\n",
    "                         ('model', model)])\n",
    "        pipe.fit(X_tr, y_train)\n",
    "        pipes.append(pipe)\n",
    "    return pipes"
   ]
  },
  {
   "cell_type": "code",
   "execution_count": 18,
   "metadata": {},
   "outputs": [],
   "source": [
    "models = make_pipeline([LinearRegression(), Ridge(alpha=100),\n",
    "                        Lasso(alpha=0.2),\n",
    "                        RandomForestRegressor(max_depth=2, random_state=0, n_estimators=100)],\n",
    "                       X_train, y_train)\n"
   ]
  },
  {
   "cell_type": "markdown",
   "metadata": {},
   "source": [
    "#### Cross Validation Score"
   ]
  },
  {
   "cell_type": "code",
   "execution_count": 19,
   "metadata": {},
   "outputs": [
    {
     "name": "stdout",
     "output_type": "stream",
     "text": [
      "LinearRegression\n",
      "Average Training R Squared Score: 0.1171\n",
      "\n",
      "Ridge\n",
      "Average Training R Squared Score: 0.1197\n",
      "\n",
      "Lasso\n",
      "Average Training R Squared Score: 0.227\n",
      "\n",
      "RandomForestRegressor\n",
      "Average Training R Squared Score: 0.6607\n",
      "\n"
     ]
    }
   ],
   "source": [
    "kfold = KFold(n_splits=5, random_state=42)\n",
    "for pipe in models:\n",
    "    name = pipe.steps[-1][1].__class__.__name__.split('.')[-1]\n",
    "    print(name)\n",
    "    X_tr = is_rf(name=name, train=True)\n",
    "    results = cross_val_score(pipe,\n",
    "                              X_tr,\n",
    "                              y_train,\n",
    "                              cv=kfold,\n",
    "                              scoring='r2')\n",
    "    print(\"Average Training R Squared Score: \" +\n",
    "          str(round(np.array(results).mean(), 4)))\n",
    "    print(\"\")"
   ]
  },
  {
   "cell_type": "markdown",
   "metadata": {},
   "source": [
    "#### Model Prediction"
   ]
  },
  {
   "cell_type": "code",
   "execution_count": 20,
   "metadata": {},
   "outputs": [
    {
     "name": "stdout",
     "output_type": "stream",
     "text": [
      "LinearRegression\n",
      "Median Absolute Training Error: 0.6276\n",
      "R Squared Score Training: 0.3025\n",
      "Median Absolute Testing Error: 0.6276\n",
      "R Squared Score Testing: 0.3025\n",
      "\n",
      "Ridge\n",
      "Median Absolute Training Error: 0.6271\n",
      "R Squared Score Training: 0.3025\n",
      "Median Absolute Testing Error: 0.6271\n",
      "R Squared Score Testing: 0.3025\n",
      "\n",
      "Lasso\n",
      "Median Absolute Training Error: 0.6183\n",
      "R Squared Score Training: 0.2903\n",
      "Median Absolute Testing Error: 0.6183\n",
      "R Squared Score Testing: 0.2903\n",
      "\n",
      "RandomForestRegressor\n",
      "Median Absolute Training Error: 0.5241\n",
      "R Squared Score Training: 0.6721\n",
      "Median Absolute Testing Error: 0.5241\n",
      "R Squared Score Testing: 0.6721\n",
      "\n"
     ]
    }
   ],
   "source": [
    "for pipe in models:\n",
    "    name = pipe.steps[-1][1].__class__.__name__.split('.')[-1]\n",
    "    print(name)\n",
    "    X_tr = is_rf(name=name, train=True)\n",
    "    X_te = is_rf(name=name, train=False)\n",
    "    y_pred = pipe.predict(X_tr)\n",
    "    print(\"Median Absolute Training Error: \" +\n",
    "          str(round(median_absolute_error(y_train, y_pred), 4)))\n",
    "    print(\"R Squared Score Training: \" +\n",
    "          str(round(r2_score(y_train, y_pred), 4)))\n",
    "    y_pred_test = pipe.predict(X_te)\n",
    "    print(\"Median Absolute Testing Error: \" +\n",
    "          str(round(median_absolute_error(y_train, y_pred), 4)))\n",
    "    print(\"R Squared Score Testing: \" +\n",
    "          str(round(r2_score(y_train, y_pred), 4)))\n",
    "    print(\"\")"
   ]
  },
  {
   "cell_type": "markdown",
   "metadata": {},
   "source": [
    "### Grid Search CV"
   ]
  },
  {
   "cell_type": "code",
   "execution_count": 21,
   "metadata": {},
   "outputs": [],
   "source": [
    "# track final r2 values and median absolute error values\n",
    "r2_scores = []\n",
    "mae_scores = []"
   ]
  },
  {
   "cell_type": "markdown",
   "metadata": {},
   "source": [
    "#### Random Forest Regressor"
   ]
  },
  {
   "cell_type": "code",
   "execution_count": 22,
   "metadata": {},
   "outputs": [],
   "source": [
    "d = {\"pca__n_components\": [1, 2, 4, 8], \"rf__max_depth\": [\n",
    "    2, 4, 8, 10, 20], \"rf__n_estimators\": [10, 20, 50, 100, 500]}\n",
    "tree_pipe = Pipeline([('scl', StandardScaler()),\n",
    "                      ('pca', PCA()),\n",
    "                      ('rf', RandomForestRegressor(max_depth=2, random_state=0, n_estimators=100))])\n",
    "clf = GridSearchCV(estimator=tree_pipe, param_grid=d, n_jobs=-1, scoring=\"r2\")"
   ]
  },
  {
   "cell_type": "code",
   "execution_count": 23,
   "metadata": {},
   "outputs": [
    {
     "data": {
      "text/plain": [
       "GridSearchCV(cv='warn', error_score='raise-deprecating',\n",
       "             estimator=Pipeline(memory=None,\n",
       "                                steps=[('scl',\n",
       "                                        StandardScaler(copy=True,\n",
       "                                                       with_mean=True,\n",
       "                                                       with_std=True)),\n",
       "                                       ('pca',\n",
       "                                        PCA(copy=True, iterated_power='auto',\n",
       "                                            n_components=None,\n",
       "                                            random_state=None,\n",
       "                                            svd_solver='auto', tol=0.0,\n",
       "                                            whiten=False)),\n",
       "                                       ('rf',\n",
       "                                        RandomForestRegressor(bootstrap=True,\n",
       "                                                              criterion='mse',\n",
       "                                                              max_depth=2,\n",
       "                                                              max...\n",
       "                                                              min_samples_split=2,\n",
       "                                                              min_weight_fraction_leaf=0.0,\n",
       "                                                              n_estimators=100,\n",
       "                                                              n_jobs=None,\n",
       "                                                              oob_score=False,\n",
       "                                                              random_state=0,\n",
       "                                                              verbose=0,\n",
       "                                                              warm_start=False))],\n",
       "                                verbose=False),\n",
       "             iid='warn', n_jobs=-1,\n",
       "             param_grid={'pca__n_components': [1, 2, 4, 8],\n",
       "                         'rf__max_depth': [2, 4, 8, 10, 20],\n",
       "                         'rf__n_estimators': [10, 20, 50, 100, 500]},\n",
       "             pre_dispatch='2*n_jobs', refit=True, return_train_score=False,\n",
       "             scoring='r2', verbose=0)"
      ]
     },
     "execution_count": 23,
     "metadata": {},
     "output_type": "execute_result"
    }
   ],
   "source": [
    "clf.fit(X_train_rf, y_train)"
   ]
  },
  {
   "cell_type": "code",
   "execution_count": 24,
   "metadata": {},
   "outputs": [
    {
     "name": "stdout",
     "output_type": "stream",
     "text": [
      "Median Absolute Test Error: 0.3841\n",
      "R Squared Score: 0.8077\n"
     ]
    }
   ],
   "source": [
    "y_pred = clf.predict(X_test_rf)\n",
    "print(\"Median Absolute Test Error: \" +\n",
    "      str(round(median_absolute_error(y_test, y_pred), 4)))\n",
    "print(\"R Squared Score: \" + str(round(r2_score(y_test, y_pred), 4)))"
   ]
  },
  {
   "cell_type": "code",
   "execution_count": 25,
   "metadata": {},
   "outputs": [],
   "source": [
    "r2_scores.append(('Random_Forest', round(r2_score(y_test, y_pred), 4)))\n",
    "mae_scores.append(('Random_Forest', round(\n",
    "    median_absolute_error(y_test, y_pred), 4)))"
   ]
  },
  {
   "cell_type": "markdown",
   "metadata": {},
   "source": [
    "### Feature Importance Graph"
   ]
  },
  {
   "cell_type": "markdown",
   "metadata": {},
   "source": [
    "#### credit to https://github.com/yihanw91/sf-crime/blob/master/crime.ipynb for graphing method"
   ]
  },
  {
   "cell_type": "code",
   "execution_count": 26,
   "metadata": {},
   "outputs": [],
   "source": [
    "rf = clf.estimator.named_steps['rf']"
   ]
  },
  {
   "cell_type": "code",
   "execution_count": 27,
   "metadata": {},
   "outputs": [
    {
     "data": {
      "text/plain": [
       "RandomForestRegressor(bootstrap=True, criterion='mse', max_depth=2,\n",
       "                      max_features='auto', max_leaf_nodes=None,\n",
       "                      min_impurity_decrease=0.0, min_impurity_split=None,\n",
       "                      min_samples_leaf=1, min_samples_split=2,\n",
       "                      min_weight_fraction_leaf=0.0, n_estimators=100,\n",
       "                      n_jobs=None, oob_score=False, random_state=0, verbose=0,\n",
       "                      warm_start=False)"
      ]
     },
     "execution_count": 27,
     "metadata": {},
     "output_type": "execute_result"
    }
   ],
   "source": [
    "rf.fit(X_train_rf, y_train)"
   ]
  },
  {
   "cell_type": "code",
   "execution_count": 28,
   "metadata": {},
   "outputs": [
    {
     "name": "stdout",
     "output_type": "stream",
     "text": [
      "min_players: 81.49%\n",
      "users_rated: 6.04%\n",
      "playing_time: 3.50%\n",
      "max_playtime: 2.66%\n",
      "max_players: 2.52%\n",
      "min_playtime: 2.08%\n",
      "min_age: 1.71%\n",
      "compilation: 0.00%\n",
      "expansion: 0.00%\n",
      "category: 0.00%\n",
      "mechanic: 0.00%\n"
     ]
    }
   ],
   "source": [
    "feature_importance = dict(zip(X_train.columns, rf.feature_importances_))\n",
    "for name, importance in sorted(feature_importance.items(), key=lambda x: x[1],\n",
    "                               reverse=True)[0:]:\n",
    "    print(f\"{name}: {importance:>.2%}\")"
   ]
  },
  {
   "cell_type": "code",
   "execution_count": 29,
   "metadata": {},
   "outputs": [],
   "source": [
    "sorted_values = []\n",
    "sorted_features = list(sorted(feature_importance.items(),\n",
    "                              key=lambda x: x[1], reverse=True)[0:])\n",
    "for n in sorted_features:\n",
    "    sorted_values.append(n[1])"
   ]
  },
  {
   "cell_type": "code",
   "execution_count": 46,
   "metadata": {},
   "outputs": [
    {
     "data": {
      "image/png": "[encoded data removed]",
      "text/plain": [
       "<Figure size 842.4x595.44 with 1 Axes>"
      ]
     },
     "metadata": {},
     "output_type": "display_data"
    }
   ],
   "source": [
    "sns.barplot(list(range(len(sorted_features))),\n",
    "            sorted_values, palette='Blues_r')\n",
    "sns.set(rc={'figure.figsize': (15, 10)})\n",
    "plt.text(-.3, sorted_values[0]+.01, round(sorted_values[0], 4))\n",
    "plt.text(.7, sorted_values[1]+.01, round(sorted_values[1], 4))\n",
    "plt.text(1.7, sorted_values[2]+.01, round(sorted_values[2], 4))\n",
    "plt.text(2.7, sorted_values[3]+.01, round(sorted_values[3], 4))\n",
    "plt.text(3.7, sorted_values[4]+.01, round(sorted_values[4], 4))\n",
    "plt.text(4.7, sorted_values[5]+.01, round(sorted_values[5], 4))\n",
    "plt.text(5.7, sorted_values[6]+.01, round(sorted_values[6], 4))\n",
    "plt.text(6.85, sorted_values[7]+.01, round(sorted_values[7], 4))\n",
    "plt.text(7.85, sorted_values[8]+.01, round(sorted_values[8], 4))\n",
    "plt.text(8.85, sorted_values[9]+.01, round(sorted_values[9], 4))\n",
    "plt.text(9.85, sorted_values[10]+.01, round(sorted_values[10], 4))\n",
    "plt.xticks(ticks=range(len(sorted_features)), labels=[\n",
    "           sorted_features[i][0] for i in range(len(sorted_features))], rotation=45)\n",
    "plt.xlabel('Model')\n",
    "plt.ylabel('Relative Importance')\n",
    "plt.title('Feature Importances', size=20)\n",
    "plt.show()"
   ]
  },
  {
   "cell_type": "markdown",
   "metadata": {},
   "source": [
    "####  Linear Regression"
   ]
  },
  {
   "cell_type": "code",
   "execution_count": 31,
   "metadata": {},
   "outputs": [],
   "source": [
    "parameters = {'pca__n_components': [1, 2, 4, 8], 'lr__fit_intercept': [\n",
    "    True, False], 'lr__normalize': [True, False], 'lr__copy_X': [True, False]}\n",
    "lin_reg_pipe = Pipeline([('scl', StandardScaler()),\n",
    "                         ('pca', PCA()),\n",
    "                         ('lr', LinearRegression())])\n",
    "clf = GridSearchCV(estimator=lin_reg_pipe,\n",
    "                   param_grid=parameters, n_jobs=-1, scoring='r2')"
   ]
  },
  {
   "cell_type": "code",
   "execution_count": 32,
   "metadata": {},
   "outputs": [
    {
     "data": {
      "text/plain": [
       "GridSearchCV(cv='warn', error_score='raise-deprecating',\n",
       "             estimator=Pipeline(memory=None,\n",
       "                                steps=[('scl',\n",
       "                                        StandardScaler(copy=True,\n",
       "                                                       with_mean=True,\n",
       "                                                       with_std=True)),\n",
       "                                       ('pca',\n",
       "                                        PCA(copy=True, iterated_power='auto',\n",
       "                                            n_components=None,\n",
       "                                            random_state=None,\n",
       "                                            svd_solver='auto', tol=0.0,\n",
       "                                            whiten=False)),\n",
       "                                       ('lr',\n",
       "                                        LinearRegression(copy_X=True,\n",
       "                                                         fit_intercept=True,\n",
       "                                                         n_jobs=None,\n",
       "                                                         normalize=False))],\n",
       "                                verbose=False),\n",
       "             iid='warn', n_jobs=-1,\n",
       "             param_grid={'lr__copy_X': [True, False],\n",
       "                         'lr__fit_intercept': [True, False],\n",
       "                         'lr__normalize': [True, False],\n",
       "                         'pca__n_components': [1, 2, 4, 8]},\n",
       "             pre_dispatch='2*n_jobs', refit=True, return_train_score=False,\n",
       "             scoring='r2', verbose=0)"
      ]
     },
     "execution_count": 32,
     "metadata": {},
     "output_type": "execute_result"
    }
   ],
   "source": [
    "clf.fit(X_train, y_train)"
   ]
  },
  {
   "cell_type": "code",
   "execution_count": 33,
   "metadata": {},
   "outputs": [
    {
     "name": "stdout",
     "output_type": "stream",
     "text": [
      "Median Absolute Test Error: 0.5442\n",
      "R Squared Score: 0.4121\n"
     ]
    }
   ],
   "source": [
    "y_pred = clf.predict(X_test)\n",
    "print(\"Median Absolute Test Error: \" +\n",
    "      str(round(median_absolute_error(y_test, y_pred), 4)))\n",
    "print(\"R Squared Score: \" + str(round(r2_score(y_test, y_pred), 4)))"
   ]
  },
  {
   "cell_type": "code",
   "execution_count": 34,
   "metadata": {},
   "outputs": [],
   "source": [
    "r2_scores.append(('Linear_Regression', round(r2_score(y_test, y_pred), 4)))\n",
    "mae_scores.append(('Linear Regression', round(\n",
    "    median_absolute_error(y_test, y_pred), 4)))"
   ]
  },
  {
   "cell_type": "markdown",
   "metadata": {},
   "source": [
    "#### Ridge Regression"
   ]
  },
  {
   "cell_type": "code",
   "execution_count": 35,
   "metadata": {},
   "outputs": [],
   "source": [
    "ridge_params = [10, 50, 100, 200, 250, 300]\n",
    "parameters = {'pca__n_components': [1, 2, 4, 8], 'rg__fit_intercept': [True, False],\n",
    "              'rg__normalize': [True, False], 'rg__copy_X': [True, False], 'rg__alpha': ridge_params}\n",
    "ridge_reg_pipe = Pipeline([('scl', StandardScaler()),\n",
    "                           ('pca', PCA()),\n",
    "                           ('rg', Ridge())])\n",
    "clf = GridSearchCV(estimator=ridge_reg_pipe,\n",
    "                   param_grid=parameters, n_jobs=-1, scoring='r2')"
   ]
  },
  {
   "cell_type": "code",
   "execution_count": 36,
   "metadata": {},
   "outputs": [
    {
     "data": {
      "text/plain": [
       "GridSearchCV(cv='warn', error_score='raise-deprecating',\n",
       "             estimator=Pipeline(memory=None,\n",
       "                                steps=[('scl',\n",
       "                                        StandardScaler(copy=True,\n",
       "                                                       with_mean=True,\n",
       "                                                       with_std=True)),\n",
       "                                       ('pca',\n",
       "                                        PCA(copy=True, iterated_power='auto',\n",
       "                                            n_components=None,\n",
       "                                            random_state=None,\n",
       "                                            svd_solver='auto', tol=0.0,\n",
       "                                            whiten=False)),\n",
       "                                       ('rg',\n",
       "                                        Ridge(alpha=1.0, copy_X=True,\n",
       "                                              fit_intercept=True, max_iter=None,\n",
       "                                              normalize=False,\n",
       "                                              random_state=None, solver='auto',\n",
       "                                              tol=0.001))],\n",
       "                                verbose=False),\n",
       "             iid='warn', n_jobs=-1,\n",
       "             param_grid={'pca__n_components': [1, 2, 4, 8],\n",
       "                         'rg__alpha': [10, 50, 100, 200, 250, 300],\n",
       "                         'rg__copy_X': [True, False],\n",
       "                         'rg__fit_intercept': [True, False],\n",
       "                         'rg__normalize': [True, False]},\n",
       "             pre_dispatch='2*n_jobs', refit=True, return_train_score=False,\n",
       "             scoring='r2', verbose=0)"
      ]
     },
     "execution_count": 36,
     "metadata": {},
     "output_type": "execute_result"
    }
   ],
   "source": [
    "clf.fit(X_train, y_train)"
   ]
  },
  {
   "cell_type": "code",
   "execution_count": 37,
   "metadata": {},
   "outputs": [
    {
     "name": "stdout",
     "output_type": "stream",
     "text": [
      "Median Absolute Test Error: 0.545\n",
      "R Squared Score: 0.4109\n"
     ]
    }
   ],
   "source": [
    "y_pred = clf.predict(X_test)\n",
    "print(\"Median Absolute Test Error: \" +\n",
    "      str(round(median_absolute_error(y_test, y_pred), 4)))\n",
    "print(\"R Squared Score: \" + str(round(r2_score(y_test, y_pred), 4)))"
   ]
  },
  {
   "cell_type": "code",
   "execution_count": 38,
   "metadata": {},
   "outputs": [],
   "source": [
    "r2_scores.append(('Ridge_Regression', round(r2_score(y_test, y_pred), 4)))\n",
    "mae_scores.append(('Ridge Regression', round(\n",
    "    median_absolute_error(y_test, y_pred), 4)))"
   ]
  },
  {
   "cell_type": "markdown",
   "metadata": {},
   "source": [
    "#### Lasso"
   ]
  },
  {
   "cell_type": "code",
   "execution_count": 39,
   "metadata": {},
   "outputs": [],
   "source": [
    "lasso_params = [0.02, 0.05, 0.1, 0.2, 0.4, 0.8]\n",
    "parameters = {'pca__n_components': [1, 2, 4, 8], 'ls__fit_intercept': [True, False],\n",
    "              'ls__normalize': [True, False], 'ls__copy_X': [True, False], 'ls__alpha': ridge_params}\n",
    "lasso_reg_pipe = Pipeline([('scl', StandardScaler()),\n",
    "                           ('pca', PCA()),\n",
    "                           ('ls', Ridge())])\n",
    "clf = GridSearchCV(estimator=lasso_reg_pipe,\n",
    "                   param_grid=parameters, n_jobs=-1, scoring='r2')"
   ]
  },
  {
   "cell_type": "code",
   "execution_count": 40,
   "metadata": {},
   "outputs": [
    {
     "data": {
      "text/plain": [
       "GridSearchCV(cv='warn', error_score='raise-deprecating',\n",
       "             estimator=Pipeline(memory=None,\n",
       "                                steps=[('scl',\n",
       "                                        StandardScaler(copy=True,\n",
       "                                                       with_mean=True,\n",
       "                                                       with_std=True)),\n",
       "                                       ('pca',\n",
       "                                        PCA(copy=True, iterated_power='auto',\n",
       "                                            n_components=None,\n",
       "                                            random_state=None,\n",
       "                                            svd_solver='auto', tol=0.0,\n",
       "                                            whiten=False)),\n",
       "                                       ('ls',\n",
       "                                        Ridge(alpha=1.0, copy_X=True,\n",
       "                                              fit_intercept=True, max_iter=None,\n",
       "                                              normalize=False,\n",
       "                                              random_state=None, solver='auto',\n",
       "                                              tol=0.001))],\n",
       "                                verbose=False),\n",
       "             iid='warn', n_jobs=-1,\n",
       "             param_grid={'ls__alpha': [10, 50, 100, 200, 250, 300],\n",
       "                         'ls__copy_X': [True, False],\n",
       "                         'ls__fit_intercept': [True, False],\n",
       "                         'ls__normalize': [True, False],\n",
       "                         'pca__n_components': [1, 2, 4, 8]},\n",
       "             pre_dispatch='2*n_jobs', refit=True, return_train_score=False,\n",
       "             scoring='r2', verbose=0)"
      ]
     },
     "execution_count": 40,
     "metadata": {},
     "output_type": "execute_result"
    }
   ],
   "source": [
    "clf.fit(X_train, y_train)"
   ]
  },
  {
   "cell_type": "code",
   "execution_count": 41,
   "metadata": {},
   "outputs": [
    {
     "name": "stdout",
     "output_type": "stream",
     "text": [
      "Median Absolute Test Error: 0.545\n",
      "R Squared Score: 0.4109\n"
     ]
    }
   ],
   "source": [
    "y_pred = clf.predict(X_test)\n",
    "print(\"Median Absolute Test Error: \" +\n",
    "      str(round(median_absolute_error(y_test, y_pred), 4)))\n",
    "print(\"R Squared Score: \" + str(round(r2_score(y_test, y_pred), 4)))"
   ]
  },
  {
   "cell_type": "code",
   "execution_count": 42,
   "metadata": {},
   "outputs": [],
   "source": [
    "r2_scores.append(('Lasso_Regression', round(r2_score(y_test, y_pred), 4)))\n",
    "mae_scores.append(('Lasso_Regression', round(\n",
    "    median_absolute_error(y_test, y_pred), 4)))"
   ]
  },
  {
   "cell_type": "markdown",
   "metadata": {},
   "source": [
    "### 5) Summary\n",
    "\n",
    "\n",
    "Based on the $R^2$ and median absolute error values the Random Forest regressor seems to be the best model as it has the largest $R^2$ value and the smallest median absolute error value compared to the other models. Linear regression, Ridge regression and LASSO regression all performed similarly. \n",
    "\n",
    "The best $R^2$ obtained from the Random Forest regressor was 0.8212 and the best median absolute error value was 0.3996.\n"
   ]
  },
  {
   "cell_type": "code",
   "execution_count": 43,
   "metadata": {},
   "outputs": [],
   "source": [
    "r2_scores.sort(key=lambda x: x[1], reverse=True)\n",
    "mae_scores.sort(key=lambda x: x[1], reverse=True)\n",
    "r2_scores = dict(r2_scores)\n",
    "mae_scores = dict(mae_scores)\n",
    "\n"
   ]
  },
  {
   "cell_type": "code",
   "execution_count": 44,
   "metadata": {},
   "outputs": [
    {
     "data": {
      "image/png": "[encoded data removed]",
      "text/plain": [
       "<Figure size 1080x720 with 1 Axes>"
      ]
     },
     "metadata": {},
     "output_type": "display_data"
    }
   ],
   "source": [
    "sns.barplot(x=list(range(len(r2_scores))), y=list(\n",
    "    r2_scores.values()), palette='Blues_r')\n",
    "sns.set(rc={'figure.figsize': (11.7, 8.27)})\n",
    "plt.xticks(ticks=range(len(r2_scores)), labels=[\n",
    "           mod for mod in r2_scores.keys()])\n",
    "plt.xlabel('Model')\n",
    "plt.ylabel('Performance')\n",
    "plt.title('R Squared Scores for Various Models', size=20)\n",
    "plt.show()"
   ]
  },
  {
   "cell_type": "code",
   "execution_count": 45,
   "metadata": {},
   "outputs": [
    {
     "data": {
      "image/png": "[encoded data removed]",
      "text/plain": [
       "<Figure size 842.4x595.44 with 1 Axes>"
      ]
     },
     "metadata": {},
     "output_type": "display_data"
    }
   ],
   "source": [
    "sns.barplot(x=list(range(len(mae_scores))), y=list(\n",
    "    mae_scores.values()), palette='Blues_r')\n",
    "sns.set(rc={'figure.figsize': (11.7, 8.27)})\n",
    "plt.xticks(ticks=range(len(mae_scores)), labels=[\n",
    "           mod for mod in mae_scores.keys()])\n",
    "plt.xlabel('Model')\n",
    "plt.ylabel('Performance')\n",
    "plt.title('Median Absolute Error Scores for Various Models', size=20)\n",
    "plt.show()"
   ]
  }
 ],
 "metadata": {
  "kernelspec": {
   "display_name": "Python 3",
   "language": "python",
   "name": "python3"
  },
  "language_info": {
   "codemirror_mode": {
    "name": "ipython",
    "version": 3
   },
   "file_extension": ".py",
   "mimetype": "text/x-python",
   "name": "python",
   "nbconvert_exporter": "python",
   "pygments_lexer": "ipython3",
   "version": "3.7.3"
  }
 },
 "nbformat": 4,
 "nbformat_minor": 2
}
